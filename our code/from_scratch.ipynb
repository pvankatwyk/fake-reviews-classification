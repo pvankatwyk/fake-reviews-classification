{
  "nbformat": 4,
  "nbformat_minor": 0,
  "metadata": {
    "colab": {
      "name": "from_scratch.ipynb",
      "provenance": [],
      "collapsed_sections": []
    },
    "kernelspec": {
      "name": "python3",
      "display_name": "Python 3"
    },
    "language_info": {
      "name": "python"
    },
    "accelerator": "GPU"
  },
  "cells": [
    {
      "cell_type": "code",
      "execution_count": 1,
      "metadata": {
        "colab": {
          "base_uri": "https://localhost:8080/"
        },
        "id": "kM2ed5IjQ7Yu",
        "outputId": "56259058-6a16-411f-9d71-61d0cc2e3e90"
      },
      "outputs": [
        {
          "output_type": "stream",
          "name": "stdout",
          "text": [
            "fatal: destination path 'fake-reviews-classification' already exists and is not an empty directory.\n"
          ]
        }
      ],
      "source": [
        "import pandas as pd\n",
        "import tensorflow as tf\n",
        "from sklearn.model_selection import train_test_split\n",
        "from google.colab import files\n",
        "from tqdm.notebook import tqdm\n",
        "import numpy as np\n",
        "\n",
        "# Clone GH for access to data\n",
        "!git clone https://github.com/pvankatwyk/fake-reviews-classification"
      ]
    },
    {
      "cell_type": "code",
      "source": [
        "df = pd.read_csv(\"/content/fake-reviews-classification/data/fake_reviews_dataset.csv\")\n",
        "\n",
        "encoded_label_dict = {\"CG\" : 0, \"OR\" : 1}\n",
        "def encode_label(x):\n",
        "    return encoded_label_dict.get(x,-1)\n",
        "df[\"target\"] = df[\"label\"].apply(lambda x: encode_label(x))"
      ],
      "metadata": {
        "id": "hiDRx4WfzlkR"
      },
      "execution_count": 2,
      "outputs": []
    },
    {
      "cell_type": "code",
      "source": [
        "maxlen=250\n",
        "def process_data(df):\n",
        "    token = tf.keras.preprocessing.text.Tokenizer()\n",
        "    token.fit_on_texts(list(df['text_']))\n",
        "    seq = token.texts_to_sequences(df['text_'])\n",
        "    padded_seq = np.array(tf.keras.preprocessing.sequence.pad_sequences(seq, maxlen=maxlen))\n",
        "    return padded_seq, token"
      ],
      "metadata": {
        "id": "V1toCL-GwwEb"
      },
      "execution_count": 3,
      "outputs": []
    },
    {
      "cell_type": "code",
      "source": [
        "X, tokenizer = process_data(df)\n",
        "y = df['target']\n",
        "X_train, X_test, y_train, y_test = train_test_split(X, y, test_size=0.33, random_state=42)\n",
        "vocab = tokenizer.word_index"
      ],
      "metadata": {
        "id": "H-t1K59ktc7x"
      },
      "execution_count": 4,
      "outputs": []
    },
    {
      "cell_type": "code",
      "source": [
        "class TransformerBlock(tf.keras.layers.Layer):\n",
        "    def __init__(self, embed_dim, num_heads, ff_dim, rate=0.1):\n",
        "        super(TransformerBlock, self).__init__()\n",
        "        self.att = tf.keras.layers.MultiHeadAttention(num_heads=num_heads, key_dim=embed_dim)\n",
        "        self.ffn = tf.keras.Sequential(\n",
        "            [\n",
        "             tf.keras.layers.Dense(ff_dim, activation=\"relu\"), \n",
        "             tf.keras.layers.Dense(embed_dim),\n",
        "             ]\n",
        "        )\n",
        "        self.layernorm1 = tf.keras.layers.LayerNormalization(epsilon=1e-6)\n",
        "        self.layernorm2 = tf.keras.layers.LayerNormalization(epsilon=1e-6)\n",
        "        self.dropout1 = tf.keras.layers.Dropout(rate)\n",
        "        self.dropout2 = tf.keras.layers.Dropout(rate)\n",
        "\n",
        "    def call(self, inputs, training):\n",
        "        attn_output = self.att(inputs, inputs)\n",
        "        attn_output = self.dropout1(attn_output, training=training)\n",
        "        out1 = self.layernorm1(inputs + attn_output)\n",
        "        ffn_output = self.ffn(out1)\n",
        "        ffn_output = self.dropout2(ffn_output, training=training)\n",
        "        return self.layernorm2(out1 + ffn_output)"
      ],
      "metadata": {
        "id": "VTUGsOrxv6G9"
      },
      "execution_count": 5,
      "outputs": []
    },
    {
      "cell_type": "code",
      "source": [
        "class TokenAndPositionEmbedding(tf.keras.layers.Layer):\n",
        "    def __init__(self, maxlen, vocab_size, embed_dim):\n",
        "        super(TokenAndPositionEmbedding, self).__init__()\n",
        "        self.token_emb = tf.keras.layers.Embedding(input_dim=vocab_size, output_dim=embed_dim)\n",
        "        self.pos_emb = tf.keras.layers.Embedding(input_dim=maxlen, output_dim=embed_dim)\n",
        "\n",
        "    def call(self, x):\n",
        "        maxlen = tf.shape(x)[-1]\n",
        "        positions = tf.range(start=0, limit=maxlen, delta=1)\n",
        "        positions = self.pos_emb(positions)\n",
        "        x = self.token_emb(x)\n",
        "        return x + positions"
      ],
      "metadata": {
        "id": "wF_HXt3gwJBd"
      },
      "execution_count": 6,
      "outputs": []
    },
    {
      "cell_type": "code",
      "source": [
        "class FakeReviewDetector(tf.keras.Model):\n",
        "    def __init__(self, vocab, embed_dim, num_heads, ff_dim):\n",
        "        super(FakeReviewDetector, self).__init__()\n",
        "\n",
        "        self.embed_dim = embed_dim\n",
        "        self.num_heads = num_heads\n",
        "        self.ff_dim = ff_dim\n",
        "\n",
        "        self.batch_size = 32\n",
        "        self.inputs = tf.keras.layers.Input(shape=(maxlen,))\n",
        "        self.embedding_layer = TokenAndPositionEmbedding(maxlen, len(vocab), embed_dim)\n",
        "        self.transformer_block = TransformerBlock(embed_dim, num_heads, ff_dim)\n",
        "        self.pooling = tf.keras.layers.GlobalAveragePooling1D()\n",
        "        self.dropout = tf.keras.layers.Dropout(0.1)\n",
        "        self.dense_hidden = tf.keras.layers.Dense(20, activation=\"relu\")\n",
        "        self.dense_out = tf.keras.layers.Dense(2, activation=\"softmax\")\n",
        "\n",
        "    def call(self, x):\n",
        "        x = self.embedding_layer(x)\n",
        "        x = self.transformer_block(x)\n",
        "        x = self.pooling(x)\n",
        "        x = self.dropout(x)\n",
        "        x = self.dense_hidden(x)\n",
        "        x = self.dropout(x)\n",
        "        x = self.dense_out(x)\n",
        "        return x"
      ],
      "metadata": {
        "id": "ED8Zcs_t40Jp"
      },
      "execution_count": 7,
      "outputs": []
    },
    {
      "cell_type": "code",
      "source": [
        "model = FakeReviewDetector(vocab=vocab, embed_dim=32, num_heads=2, ff_dim=32)"
      ],
      "metadata": {
        "id": "lepsHr7s7vfT"
      },
      "execution_count": 8,
      "outputs": []
    },
    {
      "cell_type": "code",
      "source": [
        "class SaveBatchLogs(tf.keras.callbacks.Callback):\n",
        "    def __init__(self, loss_list):\n",
        "        super(SaveBatchLogs, self).__init__()\n",
        "        self.loss_list = loss_list\n",
        "    def on_train_batch_end(self, batch, logs=None): \n",
        "        self.loss_list.append(logs)"
      ],
      "metadata": {
        "id": "aeezr5t75Y6O"
      },
      "execution_count": 9,
      "outputs": []
    },
    {
      "cell_type": "code",
      "source": [
        "batch_logs = []\n",
        "model.compile(optimizer=\"adam\", loss=\"sparse_categorical_crossentropy\", metrics=[\"accuracy\"])\n",
        "history = model.fit(\n",
        "    X_train, y_train, batch_size=128, epochs=5, callbacks=SaveBatchLogs(batch_logs), validation_split=0.2\n",
        ")"
      ],
      "metadata": {
        "colab": {
          "base_uri": "https://localhost:8080/"
        },
        "id": "a8EmUKxu3Gwa",
        "outputId": "b0c95bb6-40c1-4b23-b323-30ef6c293462"
      },
      "execution_count": 10,
      "outputs": [
        {
          "output_type": "stream",
          "name": "stdout",
          "text": [
            "Epoch 1/5\n",
            "170/170 [==============================] - 20s 65ms/step - loss: 0.4819 - accuracy: 0.7384 - val_loss: 0.2380 - val_accuracy: 0.8972\n",
            "Epoch 2/5\n",
            "170/170 [==============================] - 9s 51ms/step - loss: 0.2029 - accuracy: 0.9173 - val_loss: 0.1932 - val_accuracy: 0.9227\n",
            "Epoch 3/5\n",
            "170/170 [==============================] - 7s 44ms/step - loss: 0.1370 - accuracy: 0.9462 - val_loss: 0.1950 - val_accuracy: 0.9203\n",
            "Epoch 4/5\n",
            "170/170 [==============================] - 7s 44ms/step - loss: 0.1018 - accuracy: 0.9620 - val_loss: 0.2130 - val_accuracy: 0.9219\n",
            "Epoch 5/5\n",
            "170/170 [==============================] - 7s 44ms/step - loss: 0.0808 - accuracy: 0.9709 - val_loss: 0.2369 - val_accuracy: 0.9186\n"
          ]
        }
      ]
    },
    {
      "cell_type": "code",
      "source": [
        "acc = []\n",
        "loss = []\n",
        "for log in batch_logs:\n",
        "    loss.append(log['loss'])\n",
        "    acc.append(log['accuracy'])"
      ],
      "metadata": {
        "id": "1pDFeRxq4fAq"
      },
      "execution_count": 11,
      "outputs": []
    },
    {
      "cell_type": "code",
      "source": [
        "import matplotlib.pyplot as plt\n",
        "\n",
        "plt.plot(loss, label='loss')\n",
        "plt.title('Model Loss (5 Epochs)')\n",
        "plt.ylabel('loss')\n",
        "plt.xlabel('batch')\n",
        "plt.savefig(r'loss.png')\n",
        "# files.download('loss.png')\n",
        "plt.show()\n",
        "\n",
        "plt.plot(acc, label='accuracy')\n",
        "plt.title('Model Accuracy (5 Epochs)')\n",
        "plt.ylabel('accuracy')\n",
        "plt.xlabel('batch')\n",
        "plt.savefig('accuracy.png')\n",
        "# files.download('accuracy.png')\n",
        "plt.show()"
      ],
      "metadata": {
        "colab": {
          "base_uri": "https://localhost:8080/",
          "height": 573
        },
        "id": "B6hKsOpo9crN",
        "outputId": "dc00f563-dca6-4919-ac7e-98464834a964"
      },
      "execution_count": 12,
      "outputs": [
        {
          "output_type": "display_data",
          "data": {
            "text/plain": [
              "<Figure size 432x288 with 1 Axes>"
            ],
            "image/png": "[encoded data removed]"
          },
          "metadata": {
            "needs_background": "light"
          }
        },
        {
          "output_type": "display_data",
          "data": {
            "text/plain": [
              "<Figure size 432x288 with 1 Axes>"
            ],
            "image/png": "[encoded data removed]"
          },
          "metadata": {
            "needs_background": "light"
          }
        }
      ]
    },
    {
      "cell_type": "code",
      "source": [
        "def predict(query, model, tokenizer):\n",
        "    seq = tokenizer.texts_to_sequences([query])\n",
        "    padded_seq = np.array(tf.keras.preprocessing.sequence.pad_sequences(seq, maxlen=maxlen))\n",
        "    fake, real = model(padded_seq)[0].numpy()\n",
        "    return fake, real"
      ],
      "metadata": {
        "id": "9L5lx7EL_Obm"
      },
      "execution_count": 13,
      "outputs": []
    },
    {
      "cell_type": "code",
      "source": [
        "query = \"\"\"I work in the wedding industry and have to work long days, on my feet, outside in the heat, and have to look professional. I've spent a ridiculous amount of money on high end dress shoes like Merrels and just have not been able to find a pair that are comfortable to wear all day. Both for my feet and my back. Enter the Sanuk yoga sling!!! These shoes are amazingly comfortable. Though, I will admit it took a few wears to get used to the feel of the yoga matte bottom. At first, it felt a little \"sticky\" to me, and the fabric part that goes through the toe area was a little thick and took some getting used to. I wore them for a few days before taking them out on a job and I can't get over how comfortable they are. Ii have been wearing these shoes now for 3 months, every work day and I am THRILLED. No more back pain, no more sore feet. I also wear these sometimes during my off time,mans every time I wear them, I get compliments on how cute and comfortable they look. The great thing about these shoes is the yoga matte bottom. It helps your feet grip to the shoe a bit, so your foot can just walk normally, without having to grip the shoe. You may not realize it, but with a lot of Sandals, your foot is having to work to keep the shoe on, changing the way you walk and stand and ultimately causing foot and back pain. Not with these! Also, the soft linen sits comfortably on your skin and breathes nicely in the heat. The only downside is the funky tan lines, which is why I am sure to alternate shoes on my days off, especially if I plan to be outside for most of the day. If it were not for that, I think these might be the only shoes I'd wear all summer. If you are looking for a reasonable priced, comfortable shoe that you can wear and walk in all day.\"\"\"\n",
        "fake, real = predict(query, model, tokenizer)\n",
        "print(f\"Real Probability: {real}\\nFake Probability: {fake}\")"
      ],
      "metadata": {
        "colab": {
          "base_uri": "https://localhost:8080/"
        },
        "id": "hvEzzpYw9saW",
        "outputId": "7b38bc8c-5658-4803-df31-f14af8345f1b"
      },
      "execution_count": 14,
      "outputs": [
        {
          "output_type": "stream",
          "name": "stdout",
          "text": [
            "Real Probability: 0.9998799562454224\n",
            "Fake Probability: 0.0001200563128804788\n"
          ]
        }
      ]
    },
    {
      "cell_type": "code",
      "source": [
        "query = \"\"\"My old bet was wearing this to the Macy's in January.  This is the first one I've ever had.  I am a 32D, and the first pair I bought were just a little tight.  I'm a bit disappointed.  This is my second pair.  I'm looking forward to wearing them to the Macy's in the fall.  I like the way they look.Love these!These are my favorite.  I have a hard time finding jeans that fit me comfortably, but I have a hard time finding jeans that don't fit.  These jeans are super comfortable and have a great price point.  I have some great jeans to wear for work, but these are the only jeans that I wear for work or for my family.  I will be buying more!  I have a lot of compliments on them.I love these shoes. I love the color and the fit. They fit my body well and are comfortable. I have a wide foot and these fit me well.\n",
        "\n",
        "I'm 5'4\", 130lbs and these fit well. I would recommend them.I wear a size 11.5 in jeans and this fits perfect. I have a narrow foot and this fits perfect. It is very comfortable and fits great. I bought a small and it fit perfectly. I will order another size up.I bought these for my husband, he loves them and he loves them!This is the best pair of sunglasses for the price!  They are so comfortable and easy to use.  I wear them all the time and they don't hurt my feet.  I wear them everyday and my feet are so happy with them!\"\"\"\n",
        "fake, real = predict(query, model, tokenizer)\n",
        "print(f\"Real Probability: {real}\\nFake Probability: {fake}\")"
      ],
      "metadata": {
        "colab": {
          "base_uri": "https://localhost:8080/"
        },
        "id": "-TNr-g62A98C",
        "outputId": "8449dc1a-0ab1-47c0-a674-5da56912e85c"
      },
      "execution_count": 15,
      "outputs": [
        {
          "output_type": "stream",
          "name": "stdout",
          "text": [
            "Real Probability: 9.872383816400543e-05\n",
            "Fake Probability: 0.999901294708252\n"
          ]
        }
      ]
    },
    {
      "cell_type": "code",
      "source": [
        "query = \"\"\"I work in the wedding industry and have to work long days, on my feet, outside in the heat, and have to look professional. I've spent a ridiculous amount of money on high end dress shoes like Merrels and just have not been able to find a pair that are comfortable to wear all day. Both for my feet and my back. Enter the Sanuk yoga sling!!! These shoes are amazingly comfortable. Though, I will admit it took a few wears to get used to the feel of the yoga matte bottom. At first, it felt a little \"sticky\" to me, and the fabric part that goes through the toe area was a little thick and took some getting used to. I wore them for a few days before taking them out on a job and I can't get over how comfortable they are. Ii have been wearing these shoes now for 3 months, every work day and I am THRILLED. No more back pain, no more sore feet. I also wear these sometimes during my off time,mans every time I wear them, I get compliments on how cute and comfortable they look. The great thing about these shoes is the yoga matte bottom. It helps your feet grip to the shoe a bit, so your foot can just walk normally, without having to grip the shoe. You may not realize it, but with a lot of Sandals, your foot is having to work to keep the shoe on, changing the way you walk and stand and ultimately causing foot and back pain. Not with these! Also, the soft linen sits comfortably on your skin and breathes nicely in the heat. The only downside is the funky tan lines, which is why I am sure to alternate shoes on my days off, especially if I plan to be outside for most of the day. If it were not for that, I think these might be the only shoes I'd wear all summer. If you are looking for a reasonable priced, comfortable shoe that you can wear and walk in all day.\"\"\"\n",
        "fake, real = predict(query, model, tokenizer)\n",
        "print(f\"Real Probability: {real}\\nFake Probability: {fake}\")"
      ],
      "metadata": {
        "colab": {
          "base_uri": "https://localhost:8080/"
        },
        "id": "XxxyEthSBBmj",
        "outputId": "c2bdce4d-e430-4a9b-9447-4238fd85710f"
      },
      "execution_count": 16,
      "outputs": [
        {
          "output_type": "stream",
          "name": "stdout",
          "text": [
            "Real Probability: 0.9998799562454224\n",
            "Fake Probability: 0.0001200563128804788\n"
          ]
        }
      ]
    },
    {
      "cell_type": "code",
      "source": [
        "test_loss, test_acc = model.evaluate(x=X_test, y=y_test)"
      ],
      "metadata": {
        "colab": {
          "base_uri": "https://localhost:8080/"
        },
        "id": "ABuOxfFuBNza",
        "outputId": "76fc77a0-59a3-4df8-a238-1c24a3450149"
      },
      "execution_count": 17,
      "outputs": [
        {
          "output_type": "stream",
          "name": "stdout",
          "text": [
            "417/417 [==============================] - 4s 9ms/step - loss: 0.2339 - accuracy: 0.9188\n"
          ]
        }
      ]
    },
    {
      "cell_type": "code",
      "source": [
        "print(f'''Test Loss: {round(test_loss, 4)}\n",
        "Test Accuracy: {round(test_acc, 4)}''')"
      ],
      "metadata": {
        "colab": {
          "base_uri": "https://localhost:8080/"
        },
        "id": "b2Jy2WZaCFFS",
        "outputId": "66716eac-dcba-4680-f930-6facca9e81bb"
      },
      "execution_count": 18,
      "outputs": [
        {
          "output_type": "stream",
          "name": "stdout",
          "text": [
            "Test Loss: 0.2339\n",
            "Test Accuracy: 0.9188\n"
          ]
        }
      ]
    }
  ]
}